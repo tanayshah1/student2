{
 "cells": [
  {
   "cell_type": "code",
   "execution_count": 1,
   "metadata": {},
   "outputs": [
    {
     "name": "stdout",
     "output_type": "stream",
     "text": [
      "hello world\n"
     ]
    }
   ],
   "source": [
    "print(\"hello world\")"
   ]
  },
  {
   "cell_type": "code",
   "execution_count": 3,
   "metadata": {},
   "outputs": [
    {
     "name": "stdout",
     "output_type": "stream",
     "text": [
      "Welcome to the Quiz!\n",
      "What is the capital of France?\n",
      "1. Paris\n",
      "2. London\n",
      "3. Berlin\n",
      "4. Madrid\n"
     ]
    }
   ],
   "source": [
    "questions = [\n",
    "    {\n",
    "        'question': 'What is the capital of France?',\n",
    "        'options': ['Paris', 'London', 'Berlin', 'Madrid'],\n",
    "        'answer': 'Paris'\n",
    "    },\n",
    "    {\n",
    "        'question': 'Which planet is known as the Red Planet?',\n",
    "        'options': ['Earth', 'Mars', 'Venus', 'Jupiter'],\n",
    "        'answer': 'Mars'\n",
    "    }\n",
    "]\n",
    "\n",
    "def display_question(question):\n",
    "    print(question['question'])\n",
    "    for index, option in enumerate(question['options'], start=1):\n",
    "        print(f'{index}. {option}')\n",
    "\n",
    "def collect_answer():\n",
    "    choice = input('Enter the number of your answer: ')\n",
    "    return int(choice) - 1\n",
    "\n",
    "def run_quiz(questions):\n",
    "    score = 0\n",
    "    for question in questions:\n",
    "        display_question(question)\n",
    "        user_choice = collect_answer()\n",
    "        if question['options'][user_choice] == question['answer']:\n",
    "            score += 1\n",
    "    return score\n",
    "\n",
    "if __name__ == '__main__':\n",
    "    print('Welcome to the Quiz!')\n",
    "    total_score = run_quiz(questions)\n",
    "    print(f'Your score is: {total_score}/{len(questions)}')\n"
   ]
  }
 ],
 "metadata": {
  "kernelspec": {
   "display_name": "Python 3",
   "language": "python",
   "name": "python3"
  },
  "language_info": {
   "codemirror_mode": {
    "name": "ipython",
    "version": 3
   },
   "file_extension": ".py",
   "mimetype": "text/x-python",
   "name": "python",
   "nbconvert_exporter": "python",
   "pygments_lexer": "ipython3",
   "version": "3.11.4"
  },
  "orig_nbformat": 4
 },
 "nbformat": 4,
 "nbformat_minor": 2
}

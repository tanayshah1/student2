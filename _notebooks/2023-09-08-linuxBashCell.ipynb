{
 "cells": [
  {
   "cell_type": "markdown",
   "metadata": {},
   "source": [
    "---\n",
    "toc: true\n",
    "comments: false\n",
    "layout: post\n",
    "title: Linux Bash Script\n",
    "description: Linux Bash Script that helps with navigating file systems\n",
    "courses: { compsci: {week: 3} }\n",
    "type: hacks\n",
    "---"
   ]
  },
  {
   "cell_type": "code",
   "execution_count": null,
   "metadata": {
    "vscode": {
     "languageId": "plaintext"
    }
   },
   "outputs": [],
   "source": [
    "#!/bin/bash\n",
    "\n",
    "# Define the main menu function\n",
    "main_menu() {\n",
    "    clear\n",
    "    echo \"Navigation Menu\"\n",
    "    echo \"----------------\"\n",
    "    echo \"1. List files and directories\"\n",
    "    echo \"2. Change directory\"\n",
    "    echo \"3. Quit\"\n",
    "    echo\n",
    "    read -p \"Enter your choice: \" choice\n",
    "\n",
    "    case $choice in\n",
    "        1)\n",
    "            list_files_and_directories\n",
    "            ;;\n",
    "        2)\n",
    "            change_directory\n",
    "            ;;\n",
    "        3)\n",
    "            exit 0\n",
    "            ;;\n",
    "        *)\n",
    "            echo \"Invalid choice. Please try again.\"\n",
    "            ;;\n",
    "    esac\n",
    "}\n",
    "\n",
    "# Function to list files and directories in the current directory\n",
    "list_files_and_directories() {\n",
    "    clear\n",
    "    echo \"List of files and directories in $(pwd):\"\n",
    "    echo \"---------------------------------------\"\n",
    "    ls -l\n",
    "    echo\n",
    "    read -p \"Press Enter to continue...\"\n",
    "    main_menu\n",
    "}\n",
    "\n",
    "# Function to change the current directory\n",
    "change_directory() {\n",
    "    clear\n",
    "    read -p \"Enter the directory path: \" new_dir\n",
    "    if [ -d \"$new_dir\" ]; then\n",
    "        cd \"$new_dir\"\n",
    "        echo \"You are now in: $(pwd)\"\n",
    "        read -p \"Press Enter to continue...\"\n",
    "    else\n",
    "        echo \"Directory does not exist.\"\n",
    "        read -p \"Press Enter to continue...\"\n",
    "    fi\n",
    "    main_menu\n",
    "}\n",
    "\n",
    "# Main script execution starts here\n",
    "main_menu\n"
   ]
  }
 ],
 "metadata": {
  "language_info": {
   "name": "python"
  },
  "orig_nbformat": 4
 },
 "nbformat": 4,
 "nbformat_minor": 2
}

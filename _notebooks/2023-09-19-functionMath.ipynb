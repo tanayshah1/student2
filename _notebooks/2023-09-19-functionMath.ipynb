{
 "cells": [
  {
   "cell_type": "markdown",
   "metadata": {},
   "source": [
    "---\n",
    "toc: true\n",
    "comments: false\n",
    "layout: post\n",
    "title: Function math.\n",
    "description: Python Invesment Portfolio Simulator\n",
    "courses: { compsci: {week: 4} }\n",
    "type: hacks\n",
    "---"
   ]
  },
  {
   "cell_type": "code",
   "execution_count": 24,
   "metadata": {},
   "outputs": [],
   "source": [
    "def annuity(rate, C, months, rate_check, month_check): \n",
    "    if str(rate_check) == \"percent\": \n",
    "        rate=rate/100\n",
    "        \n",
    "    if str(month_check) == 'year': \n",
    "        months = months*12\n",
    "        \n",
    "    PV = (C/rate)*(1-(1/(1+rate)**months))\n",
    "    annuity = PV + C\n",
    "    print(\"The annuity is: {:.2f}$\".format(annuity))\n",
    "    \n",
    "def perpetuity(rate, C, rate_check): \n",
    "        if str(rate_check) == \"percent\": \n",
    "            rate = rate/100\n",
    "            \n",
    "        PV = C/rate\n",
    "        print(\"The perpetuity of your deposit is: {:.2f}$\".format(PV))\n",
    "        \n",
    "def futureValue(rate, PV, months, rate_check, month_check):\n",
    "        if str(rate_check) == \"percent\": \n",
    "            rate = rate/100\n",
    "        \n",
    "        if str(month_check) == \"year\": \n",
    "            months = months*12\n",
    "        \n",
    "        FV = float(PV)*(1+float(rate))**float(months)\n",
    "        print(\"The future value of your deposit is: {:.2f}$\".format(FV))\n",
    "    \n",
    "def presentValue(rate, FV, months, rate_check, month_check): \n",
    "        if str(rate_check) == \"percent\": \n",
    "            rate = rate/100\n",
    "        \n",
    "        if str(month_check) == \"year\": \n",
    "            months = months*12\n",
    "            \n",
    "        PV = float(FV)/((1+float(rate))**float(months))\n",
    "        print(\"The present value of your deposit is: {:.2f}$\".format(PV))"
   ]
  },
  {
   "cell_type": "code",
   "execution_count": 22,
   "metadata": {},
   "outputs": [
    {
     "name": "stdout",
     "output_type": "stream",
     "text": [
      "The annuity is: 7194.37$\n"
     ]
    }
   ],
   "source": [
    "annuity(0.12, 1000, 12, \"NA\", 'months')"
   ]
  },
  {
   "cell_type": "code",
   "execution_count": 21,
   "metadata": {},
   "outputs": [
    {
     "name": "stdout",
     "output_type": "stream",
     "text": [
      "The perpetuity of your deposit is: 8333.33$\n"
     ]
    }
   ],
   "source": [
    "perpetuity(12, 1000, 'percent')"
   ]
  },
  {
   "cell_type": "code",
   "execution_count": 25,
   "metadata": {},
   "outputs": [
    {
     "name": "stdout",
     "output_type": "stream",
     "text": [
      "The future value of your deposit is: 3895.98$\n"
     ]
    }
   ],
   "source": [
    "futureValue(0.12, 1000, 12, 'NA', 'months')"
   ]
  },
  {
   "cell_type": "code",
   "execution_count": 23,
   "metadata": {},
   "outputs": [
    {
     "name": "stdout",
     "output_type": "stream",
     "text": [
      "The present value of your deposit is: 256.68$\n"
     ]
    }
   ],
   "source": [
    "presentValue(12, 1000, 1, 'percent', 'year')"
   ]
  }
 ],
 "metadata": {
  "kernelspec": {
   "display_name": "Python 3",
   "language": "python",
   "name": "python3"
  },
  "language_info": {
   "codemirror_mode": {
    "name": "ipython",
    "version": 3
   },
   "file_extension": ".py",
   "mimetype": "text/x-python",
   "name": "python",
   "nbconvert_exporter": "python",
   "pygments_lexer": "ipython3",
   "version": "3.11.4"
  },
  "orig_nbformat": 4
 },
 "nbformat": 4,
 "nbformat_minor": 2
}

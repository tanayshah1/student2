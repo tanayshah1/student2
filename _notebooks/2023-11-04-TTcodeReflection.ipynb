{
 "cells": [
  {
   "cell_type": "markdown",
   "metadata": {},
   "source": [
    "---\n",
    "toc: false\n",
    "comments: true\n",
    "layout: post\n",
    "title: Tri 1 Reflections w/ Code\n",
    "description: A plan\n",
    "courses: { compsci: {week: 12} }\n",
    "type: plans\n",
    "---"
   ]
  },
  {
   "cell_type": "markdown",
   "metadata": {},
   "source": [
    "The team teaches project proved to be a highly engaging and transformative experience, offering us the opportunity to not only explore our own research but also to draw inspiration and knowledge from our fellow students. It added a dynamic and exciting element to our traditional school routine."
   ]
  },
  {
   "cell_type": "markdown",
   "metadata": {},
   "source": [
    "In our role, we were tasked with teaching CB 3.9 and 3.15, where we delved deep into the fascinating realm of developing algorithms. This journey allowed us to blend together various elements we had encountered in our previous studies, including booleans, conditionals, and other fundamental programming concepts, to create sophisticated programs capable of tackling intricate tasks. The knowledge we acquired during this process wasn't confined to theoretical understanding; we actively applied these newfound skills to our passion projects.\n",
    "\n",
    "In particular, we harnessed the power of algorithms within our AI and optimizer projects. For our AI system, algorithms played a pivotal role in both training the AI and shaping its decision-making logic. We used these algorithms to analyze data and provide intelligent recommendations to users, based on a multitude of factors. Meanwhile, our optimizer project demonstrated the practical applications of algorithms in finance. It involved processing over 6000 possible weightings of stock portfolios to determine the most optimal investment choices. This complex task was made possible through the strategic implementation of algorithms."
   ]
  },
  {
   "cell_type": "code",
   "execution_count": null,
   "metadata": {},
   "outputs": [],
   "source": [
    "# Example of Algorithms in the code that I created optiizer\n",
    "\n",
    "# finding weights, return, volitilty, and sharpe ratio. \n",
    "\n",
    "stocks = pd.concat([price['AAPL'], price['NVDA'], price['MSFT'], price['TSLA'], price['AMZN'], price['NFLX'], price['QCOM'], price['SBUX']], axis = 1)\n",
    "log_ret = np.log(stocks/stocks.shift(1))\n",
    "\n",
    "# setting up variables\n",
    "np.random.seed(42)\n",
    "num_ports = 6000\n",
    "num_stocks = 8\n",
    "all_weights = np.zeros((num_ports, len(stocks.columns)))\n",
    "ret_arr = np.zeros(num_ports)\n",
    "vol_arr = np.zeros(num_ports)\n",
    "sharpe_arr = np.zeros(num_ports)\n",
    "\n",
    "# going through all possible weights\n",
    "for x in range(num_ports):\n",
    "    # Weights\n",
    "    weights = np.array(np.random.random(num_stocks))\n",
    "    weights = weights/np.sum(weights)\n",
    "    \n",
    "    # Save weights\n",
    "    all_weights[x,:] = weights\n",
    "    \n",
    "    # Expected return\n",
    "    ret_arr[x] = np.sum( (log_ret.mean() * weights * 252))\n",
    "    \n",
    "    # Expected volatility\n",
    "    vol_arr[x] = np.sqrt(np.dot(weights.T, np.dot(log_ret.cov()*252, weights)))\n",
    "    \n",
    "    # Sharpe Ratio\n",
    "    sharpe_arr[x] = ret_arr[x]/vol_arr[x]"
   ]
  },
  {
   "cell_type": "markdown",
   "metadata": {},
   "source": [
    "Furthermore, the knowledge we gained from the other team teaches was invaluable and highly impactful. For example, the Boolean 'if' statement module served as a source of inspiration for our AI project. We employed 'if' statements to assess various technical indicators and determine whether it was advisable for individuals to invest in particular stocks."
   ]
  },
  {
   "cell_type": "code",
   "execution_count": null,
   "metadata": {},
   "outputs": [],
   "source": [
    "# Example of Algorithms in the code that I created optiizer\n",
    "\n",
    "# AI Code \n",
    "\n",
    "priceCORR = price.corr()\n",
    "\n",
    "colors = ['gold', 'red', 'blue', 'royalblue', 'black', 'purple', 'pink', 'green']\n",
    "\n",
    "fig, ax = plt.subplots(figsize=(10, 6))\n",
    "priceCORR.plot(kind='bar', stacked=True, ax=ax, color=colors)\n",
    "ax.set_ylabel(\"Correlation\", fontsize=12)\n",
    "ax.set_xlabel(\"Stocks\", fontsize=12)\n",
    "ax.set_title(\"Correlation between Stocks\", fontsize=16)\n",
    "\n",
    "plt.legend(title='Stocks', loc='upper right')\n",
    "plt.xticks(rotation=0)  # Rotate x-axis labels if needed\n",
    "plt.show()\n",
    "\n",
    "# Finding average correlation to show profability of portfolio\n",
    "averageCorr = price.corr()\n",
    "averageCorrMean = averageCorr.mean()\n",
    "averageCorrMean\n",
    "\n",
    "column_sum = 0\n",
    "\n",
    "# For loop to find the mean of the entire data table\n",
    "for i in range(len(averageCorrMean)):\n",
    "    column_sum += averageCorrMean[i]\n",
    "column_sum = column_sum/len(averageCorrMean)\n",
    "column_sum\n",
    "\n",
    "# Reading in the stocks of each stock and then creating a central data frame of each. \n",
    "\n",
    "import numpy as np\n",
    "import pandas as pd\n",
    "import pandas_datareader.data as web\n",
    "# Get stock data  \n",
    "all_data = {ticker: web.DataReader(ticker,'stooq')\n",
    "           for ticker in ['AAPL', 'NVDA', 'MSFT', 'TSLA', 'AMZN', 'NFLX', 'QCOM', 'SBUX']}\n",
    "# Extract the 'Adjusted Closing Price'\n",
    "price = pd.DataFrame({ticker: data['Close']\n",
    "                     for ticker, data in all_data.items() })\n"
   ]
  },
  {
   "cell_type": "markdown",
   "metadata": {},
   "source": [
    "The collaborative and multidisciplinary nature of the team teaches project allowed us to appreciate the interconnectedness of various concepts and disciplines, offering a unique and enriching learning experience that transcended traditional classroom boundaries. It not only enhanced our technical skills but also nurtured our ability to work as a team, share knowledge, and draw inspiration from our peers, making the project an unforgettable and transformative part of our educational journey."
   ]
  }
 ],
 "metadata": {
  "kernelspec": {
   "display_name": "Python 3",
   "language": "python",
   "name": "python3"
  },
  "language_info": {
   "name": "python",
   "version": "3.11.4"
  }
 },
 "nbformat": 4,
 "nbformat_minor": 2
}

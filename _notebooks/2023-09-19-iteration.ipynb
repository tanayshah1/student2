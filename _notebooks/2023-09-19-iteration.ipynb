{
 "cells": [
  {
   "cell_type": "markdown",
   "metadata": {},
   "source": [
    "---\n",
    "toc: true\n",
    "comments: false\n",
    "layout: post\n",
    "title: Iteration\n",
    "description: Python Invesment Portfolio Simulator\n",
    "courses: { compsci: {week: 4} }\n",
    "type: hacks\n",
    "---"
   ]
  },
  {
   "cell_type": "markdown",
   "metadata": {},
   "source": [
    "Write a `for loop` that sums up integers in the list below, and skips `None` values.\n",
    "```python\n",
    "sequence = [None, 2, 3, 6, None, 8, None, 11]\n",
    "```"
   ]
  },
  {
   "cell_type": "code",
   "execution_count": 3,
   "metadata": {},
   "outputs": [
    {
     "data": {
      "text/plain": [
       "859"
      ]
     },
     "execution_count": 3,
     "metadata": {},
     "output_type": "execute_result"
    }
   ],
   "source": [
    "sequence = [None, 12, 832, 2, None, 2, None, 11]\n",
    "total = 0\n",
    "for i in range(0,len(sequence)): \n",
    "    if type(sequence[i]) == int: \n",
    "        total += sequence[i]\n",
    "total"
   ]
  },
  {
   "cell_type": "markdown",
   "metadata": {},
   "source": [
    "Write a `while-loop` that prints a number as long as it is an even number less than 10, but otherwise, prints it is not less than 10. For example,  your output should look like this:\n",
    "\n",
    "```python\n",
    "0 is even and less than 10\n",
    "2 is even and less than 10\n",
    ".\n",
    ".\n",
    ".\n",
    "10 is not less than 10\n",
    "```"
   ]
  },
  {
   "cell_type": "code",
   "execution_count": 5,
   "metadata": {},
   "outputs": [
    {
     "name": "stdout",
     "output_type": "stream",
     "text": [
      "0 is even and less than 10\n",
      "2 is even and less than 10\n",
      "4 is even and less than 10\n",
      "6 is even and less than 10\n",
      "8 is even and less than 10\n",
      "10 is not less than 10\n"
     ]
    }
   ],
   "source": [
    "number = 0\n",
    "\n",
    "while number <= 10:\n",
    "    if number % 2 == 0 and number < 10:\n",
    "        print(f\"{number} is even and less than 10\")\n",
    "    else:\n",
    "        print(f\"{number} is not less than 10\")\n",
    "    number += 2\n"
   ]
  }
 ],
 "metadata": {
  "kernelspec": {
   "display_name": "Python 3",
   "language": "python",
   "name": "python3"
  },
  "language_info": {
   "codemirror_mode": {
    "name": "ipython",
    "version": 3
   },
   "file_extension": ".py",
   "mimetype": "text/x-python",
   "name": "python",
   "nbconvert_exporter": "python",
   "pygments_lexer": "ipython3",
   "version": "3.11.4"
  },
  "orig_nbformat": 4
 },
 "nbformat": 4,
 "nbformat_minor": 2
}

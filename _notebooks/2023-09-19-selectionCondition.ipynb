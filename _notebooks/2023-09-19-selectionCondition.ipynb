{
 "cells": [
  {
   "cell_type": "markdown",
   "metadata": {},
   "source": [
    "---\n",
    "toc: true\n",
    "comments: false\n",
    "layout: post\n",
    "title: Selection and condition\n",
    "description: Python Invesment Portfolio Simulator\n",
    "courses: { compsci: {week: 4} }\n",
    "type: hacks\n",
    "---"
   ]
  },
  {
   "cell_type": "code",
   "execution_count": 1,
   "metadata": {},
   "outputs": [],
   "source": [
    "class Health: \n",
    "    weight = 0\n",
    "    height = 0\n",
    "    age = 0\n",
    "    \n",
    "    def __init__(measurements, weight, height, gender, age): \n",
    "        measurements.weight = weight\n",
    "        measurements.height = height\n",
    "        measurements.gender = gender\n",
    "        measurements.age = age\n",
    "        \n",
    "    def bmi(measurements):\n",
    "        bmi_temp = (measurements.weight/(measurements.height**2))*703\n",
    "        if bmi_temp < 18.5:\n",
    "            print(f\"Based on your BMI = {bmi_temp:.2f}, you are considered Underweight\")\n",
    "        elif 18.5 < bmi_temp < 24.9:\n",
    "            print(f\"Based on your BMI = {bmi_temp:.2f}, you are considered Normal\")\n",
    "        elif 25 < bmi_temp < 29.9:\n",
    "            print(f\"Based on your BMI = {bmi_temp:.2f}, you are considered Overweight\")\n",
    "        else:    \n",
    "            print(f\"Based on your BMI = {bmi_temp:.2f}, you are considered Obese\")\n",
    "       # return (measurements.weight/(measurements.height**2))*703\n",
    "    \n",
    "    def bmr(measurements):\n",
    "        bmr_temp_M = 66 + (6.3*measurements.weight) + (12.9*measurements.height) - (6.8*measurements.age)\n",
    "        bmr_temp_F = 655 + (4.3*measurements.weight) + (4.7*measurements.height) - (4.7*measurements.age)\n",
    "        if measurements.gender == \"M\":\n",
    "            print(f\"Based on your BMR = {bmr_temp_M:.2f} here are your recommended caloric intakes per activity level:\")\n",
    "            print(f\"Sedentary: little or no exercise = {1.2*bmr_temp_M:.2f} Calories\")\n",
    "            print(f\"Lightly Active: exercise/sports 1-3 days/week = {1.375*bmr_temp_M:.2f} Calories\")\n",
    "            print(f\"Moderately Active: exercise/sports 3-5 days/week = {1.55*bmr_temp_M:.2f} Calories\")\n",
    "            print(f\"Very Active: exercise/sports 6-7 days/week = {1.725*bmr_temp_M:.2f} Calories\")\n",
    "            print(f\"Extra Active: exercise daily, or physical job = {1.9*bmr_temp_M:.2f} Calories\")\n",
    "        else:\n",
    "            print(bmr_temp_F)\n",
    "            print(f\"Based on your BMR = {bmr_temp_F:.2f}, here are your recommended caloric intakes per activity level:\")\n",
    "            print(f\"Sedentary: little or no exercise = {1.2*bmr_temp_F:.2f} Calories\")\n",
    "            print(f\"Lightly Active: exercise/sports 1-3 days/week = {1.375*bmr_temp_F:.2f} Calories\")\n",
    "            print(f\"Moderately Active: exercise/sports 3-5 days/week = {1.55*bmr_temp_F:.2f} Calories\")\n",
    "            print(f\"Very Active: exercise/sports 6-7 days/week = {1.725*bmr_temp_F:.2f} Calories\")\n",
    "            print(f\"Extra Active: exercise daily, or physical job = {1.9*bmr_temp_F:.2f} Calories\")\n",
    "       "
   ]
  },
  {
   "cell_type": "code",
   "execution_count": 2,
   "metadata": {},
   "outputs": [],
   "source": [
    "vitals = Health(130, 70.8,\"F\",48)"
   ]
  },
  {
   "cell_type": "code",
   "execution_count": 3,
   "metadata": {},
   "outputs": [
    {
     "name": "stdout",
     "output_type": "stream",
     "text": [
      "Based on your BMI = 18.23, you are considered Underweight\n"
     ]
    }
   ],
   "source": [
    "vitals.bmi()"
   ]
  },
  {
   "cell_type": "code",
   "execution_count": 4,
   "metadata": {},
   "outputs": [
    {
     "name": "stdout",
     "output_type": "stream",
     "text": [
      "1321.1599999999999\n",
      "Based on your BMR = 1321.16, here are your recommended caloric intakes per activity level:\n",
      "Sedentary: little or no exercise = 1585.39 Calories\n",
      "Lightly Active: exercise/sports 1-3 days/week = 1816.59 Calories\n",
      "Moderately Active: exercise/sports 3-5 days/week = 2047.80 Calories\n",
      "Very Active: exercise/sports 6-7 days/week = 2279.00 Calories\n",
      "Extra Active: exercise daily, or physical job = 2510.20 Calories\n"
     ]
    }
   ],
   "source": [
    "vitals.bmr()"
   ]
  }
 ],
 "metadata": {
  "kernelspec": {
   "display_name": "Python 3",
   "language": "python",
   "name": "python3"
  },
  "language_info": {
   "codemirror_mode": {
    "name": "ipython",
    "version": 3
   },
   "file_extension": ".py",
   "mimetype": "text/x-python",
   "name": "python",
   "nbconvert_exporter": "python",
   "pygments_lexer": "ipython3",
   "version": "3.11.4"
  },
  "orig_nbformat": 4
 },
 "nbformat": 4,
 "nbformat_minor": 2
}

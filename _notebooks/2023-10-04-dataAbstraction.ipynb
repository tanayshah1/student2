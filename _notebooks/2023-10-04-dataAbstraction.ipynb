{
 "cells": [
  {
   "cell_type": "markdown",
   "metadata": {},
   "source": [
    "---\n",
    "toc: true\n",
    "comments: false\n",
    "layout: post\n",
    "title: Data Abstraction Team Teach\n",
    "description: ajsdjadjaosijdiaj\n",
    "courses: { compsci: {week: 6} }\n",
    "type: tangibles\n",
    "---"
   ]
  },
  {
   "cell_type": "code",
   "execution_count": 1,
   "metadata": {},
   "outputs": [
    {
     "name": "stdout",
     "output_type": "stream",
     "text": [
      "Maria Branyas is the oldest person at 116 years old\n",
      "You can't have negative ages...\n"
     ]
    }
   ],
   "source": [
    "people = {\n",
    "    \"Tanay\": 16,\n",
    "    \"Noah Simon\": 18,\n",
    "    \"Arnav Nadar\": 15,\n",
    "    \"Tarun\": 14,\n",
    "    \"Maria Branyas\": 116\n",
    "}\n",
    "\n",
    "negative = {\n",
    "    \"Bobby\": -232,\n",
    "    \"Tristan\": -1,\n",
    "    \"Mark\": -12\n",
    "}\n",
    "\n",
    "def oldest_person(people):\n",
    "    # Setting up the variables\n",
    "    oldest = 0\n",
    "    oldest_ppl = \"\"\n",
    "    for person, age in people.items():\n",
    "        ## IF the person's age is greater than all of the previous ages, then replace oldest with their age\n",
    "        if age > oldest:\n",
    "            oldest = age\n",
    "            oldest_ppl = person\n",
    "        ## if the person's age is less than 0, then tell the person negative ages don't exist. I needed to use an elif statement because an else statement would run between toby and ian and count them as negative because toby > ian\n",
    "        elif age < 0:\n",
    "            return \"You can't have negative ages...\"\n",
    "    return str(oldest_ppl) + \" is the oldest person at \" + str(oldest) + \" years old\"\n",
    "\n",
    "# Code so that I can print both at the same time\n",
    "result1 = oldest_person(people)\n",
    "result2 = oldest_person(negative)\n",
    "\n",
    "print(result1)\n",
    "print(result2)"
   ]
  }
 ],
 "metadata": {
  "kernelspec": {
   "display_name": "Python 3",
   "language": "python",
   "name": "python3"
  },
  "language_info": {
   "codemirror_mode": {
    "name": "ipython",
    "version": 3
   },
   "file_extension": ".py",
   "mimetype": "text/x-python",
   "name": "python",
   "nbconvert_exporter": "python",
   "pygments_lexer": "ipython3",
   "version": "3.11.4"
  },
  "orig_nbformat": 4
 },
 "nbformat": 4,
 "nbformat_minor": 2
}

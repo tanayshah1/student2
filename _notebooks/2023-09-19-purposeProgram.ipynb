{
 "cells": [
  {
   "cell_type": "markdown",
   "metadata": {},
   "source": [
    "---\n",
    "toc: true\n",
    "comments: false\n",
    "layout: post\n",
    "title: Program with a Purpose\n",
    "description: Python Invesment Portfolio Simulator\n",
    "courses: { compsci: {week: 4} }\n",
    "type: hacks\n",
    "---"
   ]
  },
  {
   "cell_type": "code",
   "execution_count": 1,
   "metadata": {},
   "outputs": [
    {
     "name": "stdout",
     "output_type": "stream",
     "text": [
      "Your tax amount is: $24000.00\n"
     ]
    }
   ],
   "source": [
    "# Function to calculate tax based on income\n",
    "def calculate_tax(income):\n",
    "    if income <= 10000:\n",
    "        tax = income * 0.10\n",
    "    elif income <= 50000:\n",
    "        tax = 10000 * 0.10 + (income - 10000) * 0.20\n",
    "    else:\n",
    "        tax = 10000 * 0.10 + 40000 * 0.20 + (income - 50000) * 0.30\n",
    "    return tax\n",
    "\n",
    "# Input the income\n",
    "income = float(input(\"Enter your income: \"))\n",
    "\n",
    "# Calculate the tax\n",
    "tax = calculate_tax(income)\n",
    "\n",
    "# Display the tax amount\n",
    "print(f\"Your tax amount is: ${tax:.2f}\")\n"
   ]
  }
 ],
 "metadata": {
  "kernelspec": {
   "display_name": "Python 3",
   "language": "python",
   "name": "python3"
  },
  "language_info": {
   "codemirror_mode": {
    "name": "ipython",
    "version": 3
   },
   "file_extension": ".py",
   "mimetype": "text/x-python",
   "name": "python",
   "nbconvert_exporter": "python",
   "pygments_lexer": "ipython3",
   "version": "3.11.4"
  },
  "orig_nbformat": 4
 },
 "nbformat": 4,
 "nbformat_minor": 2
}

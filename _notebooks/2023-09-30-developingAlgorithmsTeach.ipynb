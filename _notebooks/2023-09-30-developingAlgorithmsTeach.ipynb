{
 "cells": [
  {
   "cell_type": "markdown",
   "metadata": {},
   "source": [
    "---\n",
    "toc: true\n",
    "comments: false\n",
    "layout: post\n",
    "title: Developing Algorithms\n",
    "description: Python Invesment Portfolio Simulator\n",
    "courses: { compsci: {week: 4} }\n",
    "type: hacks\n",
    "---"
   ]
  },
  {
   "cell_type": "markdown",
   "metadata": {},
   "source": [
    "Lets start off with the basics. What is an algorithm? \n",
    "# INSERT DEFINTION FOR ALGORITHM"
   ]
  },
  {
   "cell_type": "markdown",
   "metadata": {},
   "source": [
    "What is the difference between the two pieces of code?"
   ]
  },
  {
   "cell_type": "code",
   "execution_count": 2,
   "metadata": {},
   "outputs": [
    {
     "ename": "SyntaxError",
     "evalue": "invalid syntax. Perhaps you forgot a comma? (1646293159.py, line 10)",
     "output_type": "error",
     "traceback": [
      "\u001b[0;36m  Cell \u001b[0;32mIn[2], line 10\u001b[0;36m\u001b[0m\n\u001b[0;31m    IF (temp >= 65){\u001b[0m\n\u001b[0m    ^\u001b[0m\n\u001b[0;31mSyntaxError\u001b[0m\u001b[0;31m:\u001b[0m invalid syntax. Perhaps you forgot a comma?\n"
     ]
    }
   ],
   "source": [
    "# Psuedo Code 1\n",
    "DISPLAY (\"What is the temperature outside in F?\")\n",
    "temp <- INPUT()\n",
    "IF (temp >= 90)\n",
    "{\n",
    "    DISPLAY(\"its too hot outide\")\n",
    "}\n",
    "ELSE \n",
    "{\n",
    "    IF (temp >= 65){\n",
    "        DISPLAY (\"sure I will play outside\")\n",
    "    }\n",
    "    ELSE \n",
    "    {\n",
    "        DISPLAY (\"its too cold outside\")\n",
    "    }\n",
    "}\n",
    "\n",
    "# Psuedo Code 2\n",
    "DISPLAY (\"What is the temperature outside in F?\")\n",
    "temp <- INPUT()\n",
    "IF (temp >= 90)\n",
    "{\n",
    "    DISPLAY(\"its too hot outide\")\n",
    "}\n",
    "IF (temp >= 65)\n",
    "{\n",
    "        DISPLAY (\"sure I will play outside\")\n",
    "}\n",
    "IF (temp < 65)\n",
    "{\n",
    "        DISPLAY (\"its too cold outside\")\n",
    "}"
   ]
  },
  {
   "cell_type": "code",
   "execution_count": null,
   "metadata": {},
   "outputs": [],
   "source": [
    "# Psuedo Code 1\n",
    "print(\"What is the temperature outside in F?\")\n",
    "temp = int(input())\n",
    "\n",
    "if temp >= 90: \n",
    "    print(\"its too hot outide\")\n",
    "else:  \n",
    "    if temp >= 65:\n",
    "        print(\"sure I will play outside\")\n",
    "    else: \n",
    "        print(\"its too cold outside\")\n",
    "        \n",
    "# Psuedo Code 2\n",
    "print(\"What is the temperature outside in F?\")\n",
    "temp = int(input())\n",
    "\n",
    "if temp >= 90: \n",
    "    print(\"its too hot outide\")\n",
    "if temp >= 65:\n",
    "    print(\"sure I will play outside\")\n",
    "if temp < 65:\n",
    "    print(\"its too cold outside\")"
   ]
  },
  {
   "cell_type": "markdown",
   "metadata": {},
   "source": [
    "What happens if we plug 56 for the temp? What happens if we plug 95 in? \n",
    "\n",
    "If we plug 56 in, then it will display the text \"its too cold outside.\" It first checks the first input, if temp is greater than or equal to 90. Which it isn't so it moves on to the next if. If temp is greater than or equal to 65, which it isn't so it checks the last if/else statement and displays the text its too cold outside. \n",
    "\n",
    "If we plug 95 in we get two different results. Code one displays \"its too hot outide\" but code two displays \"its too hot outide\" and \"sure I will play outside.\" Why is this?  "
   ]
  },
  {
   "cell_type": "markdown",
   "metadata": {},
   "source": [
    "### Popcorn Hack #1 \n",
    "Adjust Pseudo Code #2 so that it has the same output as Code #1 for all inputs. "
   ]
  },
  {
   "cell_type": "code",
   "execution_count": null,
   "metadata": {},
   "outputs": [],
   "source": [
    "# Insert your code here: \n"
   ]
  },
  {
   "cell_type": "markdown",
   "metadata": {},
   "source": [
    "# Conditionals vs Booleans \n",
    "\n",
    "Quick reminder: \n",
    "- Conditionals: checks if a condition is true or false using statements like if, elif, and else if. \n",
    "- Booleans: Data type that conditionals use, only two: true and false"
   ]
  },
  {
   "cell_type": "markdown",
   "metadata": {},
   "source": [
    "We have given an algorithm that uses conditionals and two boolean statements that should have the same output as the conditional. Which boolean statement works and which one doesn't? "
   ]
  },
  {
   "cell_type": "markdown",
   "metadata": {},
   "source": [
    "### Conditional: "
   ]
  },
  {
   "cell_type": "code",
   "execution_count": null,
   "metadata": {},
   "outputs": [],
   "source": [
    "# Psuedo Code\n",
    "IF (isHoliday)\n",
    "{\n",
    "    driveWork<- False\n",
    "}\n",
    "ELSE\n",
    "{\n",
    "    IF (iswWeekday)\n",
    "    {\n",
    "        driveWork <_ True\n",
    "    }\n",
    "    ELSE\n",
    "    {\n",
    "        driveWork <- False\n",
    "    }\n",
    "}"
   ]
  },
  {
   "cell_type": "markdown",
   "metadata": {},
   "source": [
    "### Boolean"
   ]
  },
  {
   "cell_type": "code",
   "execution_count": null,
   "metadata": {},
   "outputs": [],
   "source": [
    "# Option 1: \n",
    "driveWork <- ( (isHoliday) AND (isWeekday))\n",
    "\n",
    "# Option 2: \n",
    "driveWork <- ( (NOT (isHoliday)) AND (isWeekday))"
   ]
  },
  {
   "cell_type": "markdown",
   "metadata": {},
   "source": [
    "### Answer\n",
    "\n",
    "| <img src=\"https://i.ibb.co/hCtMMRH/Screenshot-2023-10-15-at-6-21-20-PM.png\" width = 600px height = auto > |\n",
    "\n",
    "Option 2 is the correct answer"
   ]
  },
  {
   "cell_type": "markdown",
   "metadata": {},
   "source": [
    "### Popcorn Hack #2\n",
    "Using the commands listed below, move the robot (gray triangle) through the white squares to the gray square wihtout touching the black squares in the least amount of lines as possible. \n",
    "\n",
    "Commands allowed: \n",
    "MOVE_FORWARD()\n",
    "- moves the robot one sqaure in the direction it is facing \n",
    "ROTATE_LEFT()\n",
    "- rotates the robot 90 degrees counterclockwise relative to itself \n",
    "ROTATE_RIGHT()\n",
    "- rotates the robot 90 degrees clockwise relative to itself \n",
    "CAN_MOVE()\n",
    "- checks if the robot can move forward in true or false (true: it can move forward. false: it can't move forward)"
   ]
  },
  {
   "cell_type": "code",
   "execution_count": null,
   "metadata": {},
   "outputs": [],
   "source": [
    "# Insert your code here: \n"
   ]
  },
  {
   "cell_type": "markdown",
   "metadata": {},
   "source": [
    "### Optional Popcorn Hack\n",
    "Change your code to an algorithm that works for any given course. \n",
    "\n",
    "Hint: use if, elif, else, and CAN_MOVE() "
   ]
  },
  {
   "cell_type": "code",
   "execution_count": null,
   "metadata": {},
   "outputs": [],
   "source": [
    "# Insert your code here: \n"
   ]
  },
  {
   "cell_type": "markdown",
   "metadata": {},
   "source": [
    "# Combining Selection and/or Iteration\n",
    "\n",
    "Create an algorithm that uses selection and/or iteration to determine the cost of one item. \n",
    "THe display at the stores says the follorwing: \n",
    "- Green tagged items: 25% off \n",
    "- Red tagged items: 60% off\n",
    "- Tax on all items is 10% "
   ]
  },
  {
   "cell_type": "code",
   "execution_count": null,
   "metadata": {},
   "outputs": [],
   "source": [
    "# Psuedo Code\n",
    "DISPLAY (\"What is the cost of the item?\")\n",
    "cost <- INPUT()\n",
    "DIPLAY (\"Is the tag green or red (type \"True\" if it is green, type \"False\" for red)\")\n",
    "tag <- BOOL(INPUT())\n",
    "IF (tag == True) # Check if it is green tag (refer to lines above)\n",
    "{\n",
    "    cost <- 0.75 * cost\n",
    "}\n",
    "IF (tag == False) # Check if it is green tag (refer to lines above)\n",
    "{\n",
    "    cost <- 0.40 * cost\n",
    "}\n",
    "cost <- 1.10 * cost "
   ]
  },
  {
   "cell_type": "code",
   "execution_count": null,
   "metadata": {},
   "outputs": [],
   "source": [
    "print(\"What is the cost of the item?\")\n",
    "cost = int(input())\n",
    "print(\"Is the tag green or red (type \"True\" if it is green, type \"False\" for red)\")\n",
    "tag = bool(input())\n",
    "\n",
    "if tag == True: # Check if it is green tag (refer to lines above)\n",
    "    cost = 0.75 * cost\n",
    "if tag == False: # Check if it is green tag (refer to lines above)\n",
    "    cost = 0.40 * cost\n",
    "cost = 1.10 * cost # accounting for tax"
   ]
  },
  {
   "cell_type": "markdown",
   "metadata": {},
   "source": [
    "# Homework\n",
    "\n",
    "- Create an algorithm that uses selection and/or iteration that will represent one player's turn in a game. \n",
    "\n",
    "- During a turn, each player gets 4 attempts/chances to get the greates number possible. \n",
    "\n",
    "- During each attempt the player will use a random number generator to select a random number 1-10. \n",
    "\n",
    "- After the player has had 4 chances, their score is the greatest number they receieved from the random number generator, and their turn is over. "
   ]
  },
  {
   "cell_type": "markdown",
   "metadata": {},
   "source": [
    "Use the following flowchart to assist you: \n",
    "\n",
    "| <img src=\"https://i.ibb.co/ZBFgwn2/Screen-Shot-2023-10-15-at-7-40-22-PM.png\" width = 600px height = auto > "
   ]
  }
 ],
 "metadata": {
  "kernelspec": {
   "display_name": "Python 3",
   "language": "python",
   "name": "python3"
  },
  "language_info": {
   "codemirror_mode": {
    "name": "ipython",
    "version": 3
   },
   "file_extension": ".py",
   "mimetype": "text/x-python",
   "name": "python",
   "nbconvert_exporter": "python",
   "pygments_lexer": "ipython3",
   "version": "3.11.4"
  }
 },
 "nbformat": 4,
 "nbformat_minor": 2
}
